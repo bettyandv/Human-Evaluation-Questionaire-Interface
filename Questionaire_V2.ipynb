{
 "cells": [
  {
   "cell_type": "code",
   "execution_count": 1,
   "id": "2f866ffd-d831-4bd7-98d5-f5902d95d3c5",
   "metadata": {
    "tags": []
   },
   "outputs": [
    {
     "name": "stderr",
     "output_type": "stream",
     "text": [
      "/home/betty/miniconda3/lib/python3.12/site-packages/numpy/_core/getlimits.py:548: UserWarning: Signature b'\\x00\\xd0\\xcc\\xcc\\xcc\\xcc\\xcc\\xcc\\xfb\\xbf\\x00\\x00\\x00\\x00\\x00\\x00' for <class 'numpy.longdouble'> does not match any known type: falling back to type probe function.\n",
      "This warnings indicates broken support for the dtype!\n",
      "  machar = _get_machar(dtype)\n"
     ]
    }
   ],
   "source": [
    "import gradio as gr\n",
    "import json\n",
    "import pickle"
   ]
  },
  {
   "cell_type": "code",
   "execution_count": 2,
   "id": "c07105c1-0b5a-4eeb-98c3-0266b21a879b",
   "metadata": {
    "tags": []
   },
   "outputs": [],
   "source": [
    "with open('dialogues.pkl', 'rb') as f:\n",
    "    questions = pickle.load(f)"
   ]
  },
  {
   "cell_type": "code",
   "execution_count": 3,
   "id": "80a588e5-dee2-407d-b822-372ac89ed720",
   "metadata": {
    "tags": []
   },
   "outputs": [
    {
     "data": {
      "text/plain": [
       "{'location': True,\n",
       " 'context': True,\n",
       " 'conversation_context_type': True,\n",
       " 'main_topic': True,\n",
       " 'goal_alignment': True,\n",
       " 'role_nationality': True,\n",
       " 'overall_scenario_consistency_score': 5}"
      ]
     },
     "execution_count": 3,
     "metadata": {},
     "output_type": "execute_result"
    }
   ],
   "source": [
    "# 检查加载的数据\n",
    "# questions[0]\n",
    "# questions[0]['metadata']\n",
    "# questions[0]['script']\n",
    "# questions[0]['conversation']['conversation'][0]\n",
    "# questions[3]['evaluation_result']\n",
    "questions[20]['evaluation_result']['consistency']['scenario_consistency']"
   ]
  },
  {
   "cell_type": "code",
   "execution_count": 8,
   "id": "2e0defd1-aedf-4c7a-ad83-5f5ba3df5772",
   "metadata": {
    "tags": []
   },
   "outputs": [
    {
     "data": {
      "text/plain": [
       "{'consistency': {'scenario_consistency': {'location': True,\n",
       "   'context': True,\n",
       "   'conversation_context_type': True,\n",
       "   'main_topic': True,\n",
       "   'goal_alignment': True,\n",
       "   'role_nationality': True,\n",
       "   'overall_scenario_consistency_score': 5},\n",
       "  'self_consistency': {'role_names': True,\n",
       "   'role_age': True,\n",
       "   'role_occupation': True,\n",
       "   'role_relationship': True,\n",
       "   'time_of_day': True,\n",
       "   'emotional_tone': True,\n",
       "   'relationship_dynamic': True,\n",
       "   'self_introduction': True,\n",
       "   'setting_context_alignment': True,\n",
       "   'overall_self_consistency_score': 5}},\n",
       " 'coherence': [{'turn_id': 0,\n",
       "   'topic_relevance': True,\n",
       "   'contextual_follow_up': True,\n",
       "   'logical_continuity': True,\n",
       "   'no_contradiction': True,\n",
       "   'script_alignment': True,\n",
       "   'coherence_score': 5},\n",
       "  {'turn_id': 1,\n",
       "   'topic_relevance': True,\n",
       "   'contextual_follow_up': True,\n",
       "   'logical_continuity': True,\n",
       "   'no_contradiction': True,\n",
       "   'script_alignment': True,\n",
       "   'coherence_score': 5},\n",
       "  {'turn_id': 2,\n",
       "   'topic_relevance': True,\n",
       "   'contextual_follow_up': True,\n",
       "   'logical_continuity': True,\n",
       "   'no_contradiction': True,\n",
       "   'script_alignment': True,\n",
       "   'coherence_score': 5},\n",
       "  {'turn_id': 3,\n",
       "   'topic_relevance': True,\n",
       "   'contextual_follow_up': True,\n",
       "   'logical_continuity': True,\n",
       "   'no_contradiction': True,\n",
       "   'script_alignment': True,\n",
       "   'coherence_score': 5},\n",
       "  {'turn_id': 4,\n",
       "   'topic_relevance': True,\n",
       "   'contextual_follow_up': True,\n",
       "   'logical_continuity': True,\n",
       "   'no_contradiction': True,\n",
       "   'script_alignment': True,\n",
       "   'coherence_score': 5},\n",
       "  {'turn_id': 5,\n",
       "   'topic_relevance': True,\n",
       "   'contextual_follow_up': True,\n",
       "   'logical_continuity': True,\n",
       "   'no_contradiction': True,\n",
       "   'script_alignment': True,\n",
       "   'coherence_score': 5},\n",
       "  {'turn_id': 6,\n",
       "   'topic_relevance': True,\n",
       "   'contextual_follow_up': True,\n",
       "   'logical_continuity': True,\n",
       "   'no_contradiction': True,\n",
       "   'script_alignment': True,\n",
       "   'coherence_score': 5},\n",
       "  {'turn_id': 7,\n",
       "   'topic_relevance': True,\n",
       "   'contextual_follow_up': True,\n",
       "   'logical_continuity': True,\n",
       "   'no_contradiction': True,\n",
       "   'script_alignment': True,\n",
       "   'coherence_score': 5},\n",
       "  {'turn_id': 8,\n",
       "   'topic_relevance': True,\n",
       "   'contextual_follow_up': True,\n",
       "   'logical_continuity': True,\n",
       "   'no_contradiction': True,\n",
       "   'script_alignment': True,\n",
       "   'coherence_score': 5},\n",
       "  {'turn_id': 9,\n",
       "   'topic_relevance': True,\n",
       "   'contextual_follow_up': True,\n",
       "   'logical_continuity': True,\n",
       "   'no_contradiction': True,\n",
       "   'script_alignment': True,\n",
       "   'coherence_score': 5}],\n",
       " 'naturalness': [{'turn_id': 0,\n",
       "   'oral_style': True,\n",
       "   'length_and_flow': True,\n",
       "   'emotion_appropriateness': True,\n",
       "   'text_emotion_consistency': True,\n",
       "   'contextual_vocabulary_style': True,\n",
       "   'naturalness_score': 5},\n",
       "  {'turn_id': 1,\n",
       "   'oral_style': True,\n",
       "   'length_and_flow': True,\n",
       "   'emotion_appropriateness': True,\n",
       "   'text_emotion_consistency': True,\n",
       "   'contextual_vocabulary_style': True,\n",
       "   'naturalness_score': 5},\n",
       "  {'turn_id': 2,\n",
       "   'oral_style': True,\n",
       "   'length_and_flow': True,\n",
       "   'emotion_appropriateness': True,\n",
       "   'text_emotion_consistency': True,\n",
       "   'contextual_vocabulary_style': True,\n",
       "   'naturalness_score': 5},\n",
       "  {'turn_id': 3,\n",
       "   'oral_style': True,\n",
       "   'length_and_flow': True,\n",
       "   'emotion_appropriateness': True,\n",
       "   'text_emotion_consistency': True,\n",
       "   'contextual_vocabulary_style': True,\n",
       "   'naturalness_score': 5},\n",
       "  {'turn_id': 4,\n",
       "   'oral_style': True,\n",
       "   'length_and_flow': True,\n",
       "   'emotion_appropriateness': True,\n",
       "   'text_emotion_consistency': True,\n",
       "   'contextual_vocabulary_style': True,\n",
       "   'naturalness_score': 5},\n",
       "  {'turn_id': 5,\n",
       "   'oral_style': True,\n",
       "   'length_and_flow': True,\n",
       "   'emotion_appropriateness': True,\n",
       "   'text_emotion_consistency': True,\n",
       "   'contextual_vocabulary_style': True,\n",
       "   'naturalness_score': 5},\n",
       "  {'turn_id': 6,\n",
       "   'oral_style': True,\n",
       "   'length_and_flow': True,\n",
       "   'emotion_appropriateness': True,\n",
       "   'text_emotion_consistency': True,\n",
       "   'contextual_vocabulary_style': True,\n",
       "   'naturalness_score': 5},\n",
       "  {'turn_id': 7,\n",
       "   'oral_style': True,\n",
       "   'length_and_flow': True,\n",
       "   'emotion_appropriateness': True,\n",
       "   'text_emotion_consistency': True,\n",
       "   'contextual_vocabulary_style': True,\n",
       "   'naturalness_score': 5},\n",
       "  {'turn_id': 8,\n",
       "   'oral_style': True,\n",
       "   'length_and_flow': True,\n",
       "   'emotion_appropriateness': True,\n",
       "   'text_emotion_consistency': True,\n",
       "   'contextual_vocabulary_style': True,\n",
       "   'naturalness_score': 5},\n",
       "  {'turn_id': 9,\n",
       "   'oral_style': True,\n",
       "   'length_and_flow': True,\n",
       "   'emotion_appropriateness': True,\n",
       "   'text_emotion_consistency': True,\n",
       "   'contextual_vocabulary_style': True,\n",
       "   'naturalness_score': 5}]}"
      ]
     },
     "execution_count": 8,
     "metadata": {},
     "output_type": "execute_result"
    }
   ],
   "source": [
    "questions[10]['evaluation_result']"
   ]
  },
  {
   "cell_type": "code",
   "execution_count": 5,
   "id": "e80ca55e-f060-434c-8105-aeb6799e77a5",
   "metadata": {
    "tags": []
   },
   "outputs": [
    {
     "name": "stdout",
     "output_type": "stream",
     "text": [
      "* Running on local URL:  http://127.0.0.1:7860\n",
      "\n",
      "To create a public link, set `share=True` in `launch()`.\n"
     ]
    },
    {
     "data": {
      "text/html": [
       "<div><iframe src=\"http://127.0.0.1:7860/\" width=\"100%\" height=\"500\" allow=\"autoplay; camera; microphone; clipboard-read; clipboard-write;\" frameborder=\"0\" allowfullscreen></iframe></div>"
      ],
      "text/plain": [
       "<IPython.core.display.HTML object>"
      ]
     },
     "metadata": {},
     "output_type": "display_data"
    },
    {
     "name": "stdout",
     "output_type": "stream",
     "text": [
      "question saved into pkl\n"
     ]
    }
   ],
   "source": [
    "import gradio as gr\n",
    "import pickle\n",
    "import json\n",
    "\n",
    "# 加载数据\n",
    "with open('dialogues.pkl', 'rb') as f:\n",
    "    questions = pickle.load(f)\n",
    "\n",
    "metadata = questions[10]['metadata']\n",
    "evaluation = questions[10]['evaluation_result']\n",
    "\n",
    "# scenario_consistency 是我们需要更新的字典\n",
    "scenario_consistency = evaluation['consistency']['scenario_consistency']\n",
    "\n",
    "# 更新字典的函数\n",
    "def update(location, context, conversation_context_type, main_topic, goal_alignment, role_nationality, overall_scenario_consistency_score):\n",
    "    # 根据用户选择更新字典中的值\n",
    "    scenario_consistency[\"location\"] = location\n",
    "    scenario_consistency[\"context\"] = context\n",
    "    scenario_consistency[\"conversation_context_type\"] = conversation_context_type\n",
    "    scenario_consistency[\"main_topic\"] = main_topic\n",
    "    scenario_consistency[\"goal_alignment\"] = goal_alignment\n",
    "    scenario_consistency[\"role_nationality\"] = role_nationality\n",
    "    scenario_consistency[\"overall_scenario_consistency_score\"] = overall_scenario_consistency_score\n",
    "    \n",
    "    # 返回格式化后的结果\n",
    "    return json.dumps(scenario_consistency, indent=4)\n",
    "\n",
    "# 界面组件定义\n",
    "consist_interface = [\n",
    "    gr.Checkbox(label=\"location\", value=scenario_consistency.get(\"location\", True)),\n",
    "    gr.Checkbox(label=\"context\", value=scenario_consistency.get(\"context\", True)),\n",
    "    gr.Checkbox(label=\"conversation_context_type\", value=scenario_consistency.get(\"conversation_context_type\", True)),\n",
    "    gr.Checkbox(label=\"main_topic\", value=scenario_consistency.get(\"main_topic\", True)),\n",
    "    gr.Checkbox(label=\"goal_alignment\", value=scenario_consistency.get(\"goal_alignment\", True)),\n",
    "    gr.Checkbox(label=\"role_nationality\", value=scenario_consistency.get(\"role_nationality\", True)),\n",
    "    gr.Dropdown([1, 2, 3, 4, 5], label=\"overall_scenario_consistency_score\", value=scenario_consistency.get(\"overall_scenario_consistency_score\", 5))\n",
    "]\n",
    "\n",
    "# 创建 Gradio 界面\n",
    "demo = gr.Interface(\n",
    "    fn=update,  # 使用更新函数\n",
    "    inputs=consist_interface,  # 输入组件\n",
    "    outputs=gr.Textbox(label=\"Final result\", interactive=False)  # 输出更新后的结果\n",
    ")\n",
    "\n",
    "# 启动 Gradio 界面\n",
    "demo.launch()\n",
    "\n",
    "# 保存更新后的 questions 数据\n",
    "with open('dialogues.pkl', 'wb') as f:\n",
    "    pickle.dump(questions, f)\n",
    "\n",
    "print('question saved into pkl')\n"
   ]
  },
  {
   "cell_type": "code",
   "execution_count": null,
   "id": "e21490a3-604a-446c-883c-499086916e03",
   "metadata": {},
   "outputs": [],
   "source": [
    "questions[10]['evaluation_result']"
   ]
  }
 ],
 "metadata": {
  "kernelspec": {
   "display_name": "Python 3 (ipykernel)",
   "language": "python",
   "name": "python3"
  },
  "language_info": {
   "codemirror_mode": {
    "name": "ipython",
    "version": 3
   },
   "file_extension": ".py",
   "mimetype": "text/x-python",
   "name": "python",
   "nbconvert_exporter": "python",
   "pygments_lexer": "ipython3",
   "version": "3.12.4"
  }
 },
 "nbformat": 4,
 "nbformat_minor": 5
}
